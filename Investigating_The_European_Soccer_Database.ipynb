{
 "cells": [
  {
   "cell_type": "markdown",
   "metadata": {},
   "source": [
    "# Project: Investigating The European Soccer Database\n",
    "\n",
    "## Table of Contents\n",
    "<ul>\n",
    "<li><a href=\"#intro\">Introduction</a></li>\n",
    "<li><a href=\"#wrangling\">Data Wrangling</a></li>\n",
    "<li><a href=\"#eda\">Exploratory Data Analysis</a></li>\n",
    "<li><a href=\"#conclusions\">Conclusions</a></li>\n",
    "</ul>"
   ]
  },
  {
   "cell_type": "markdown",
   "metadata": {},
   "source": [
    "# <a id='intro'></a>\n",
    "## Introduction\n",
    "\n",
    "> In this project, I investigate the relationships between win percentage, goals scored, and goals against in professional European soccer. This analysis utilizes the [European Soccer Database](https://www.kaggle.com/hugomathien/soccer) Kaggle dataset compiled by Hugo Mathien, which contains data on more than 25k matches,  10k players, and 259 teams in the European Soccer League between the years 2008 and 2016. \n",
    "\n",
    "> This analysis focuses on the following questions: \n",
    "    > - Which teams had the highest win percentage between the 2008/2009 and 2015/2016 seasons?\n",
    "    > - Which teams had the most improvement by win percentage between the 2008/2009 and 2015/2016 seasons? \n",
    "    > - Which teams averaged the most goals scored per year? \n",
    "    > - Which leagues averaged the most goals scored between 2008/2009 and 2015/2016?\n",
    "    > - Which teams had the most improvement in goals scored average between 2008/2009 and 2015/2016?\n",
    "    > - How does goal differential compare with win percentage?"
   ]
  },
  {
   "cell_type": "code",
   "execution_count": 362,
   "metadata": {},
   "outputs": [],
   "source": [
    "# import packages\n",
    "import pandas as pd\n",
    "import numpy as np\n",
    "import matplotlib.pyplot as plt\n",
    "import seaborn as sns\n",
    "\n",
    "%matplotlib inline"
   ]
  },
  {
   "cell_type": "markdown",
   "metadata": {},
   "source": [
    "<a id='wrangling'></a>\n",
    "## Data Wrangling\n",
    "\n",
    "> The data source (database.sqlite) was accessed through DB Browser for SQLite in order to perform inner joins, aggregations, and remove unnecessary columns using the below queries exported as combined_soccer_data.csv resulting in the following columns:\n",
    "> * Team\n",
    "> * Season\n",
    "> * Country\n",
    "> * League \n",
    "> * Goals Scored\n",
    "> * Goals Against\n",
    "> * Wins\n",
    "> * Losses\n",
    "> * Ties"
   ]
  },
  {
   "cell_type": "markdown",
   "metadata": {},
   "source": [
    "``` mysql\n",
    "-- SELECT relevant columns from Match, Country, League, and Teams tables\n",
    "SELECT\n",
    "      m.id,\n",
    "      c.name AS country,\n",
    "      l.name AS league,\n",
    "      m.season,\n",
    "      m.match_api_id,\n",
    "      m.home_team_api_id,\n",
    "      t1.team_long_name AS home_team,\n",
    "      m.away_team_api_id,\n",
    "      t2.team_long_name AS away_team,\n",
    "      m.home_team_goal,\n",
    "      m.away_team_goal,\n",
    "      m.foulcommit,\n",
    "      m.card\n",
    "FROM match AS m\n",
    "JOIN country AS c\n",
    "ON m.country_id = c.id\n",
    "JOIN league AS l\n",
    "ON m.league_id = l.id\n",
    "JOIN team AS t1\n",
    "ON m.home_team_api_id = t1.team_api_id\n",
    "JOIN team AS t2\n",
    "ON m.away_team_api_id = t2.team_api_id\n",
    "ORDER BY 4;\n",
    "\n",
    "-- Create view of combined tables\n",
    "CREATE VIEW combined AS SELECT\n",
    "      m.id,\n",
    "      c.name AS country,\n",
    "      l.name AS league,\n",
    "      m.season,\n",
    "      m.match_api_id,\n",
    "      m.home_team_api_id,\n",
    "      t1.team_long_name AS home_team,\n",
    "      m.away_team_api_id,\n",
    "      t2.team_long_name AS away_team,\n",
    "      m.home_team_goal,\n",
    "      m.away_team_goal,\n",
    "      m.foulcommit,\n",
    "      m.card,\n",
    "      CASE WHEN m.home_team_goal > m.away_team_goal THEN 1 ELSE 0\n",
    "      END AS win_home,\n",
    "      CASE WHEN m.home_team_goal < m.away_team_goal THEN 1 ELSE 0\n",
    "      END AS win_away,\n",
    "      CASE WHEN m.home_team_goal = m.away_team_goal THEN 1 ELSE 0\n",
    "      END AS tie\n",
    "FROM match AS m\n",
    "JOIN country AS c\n",
    "ON m.country_id = c.id\n",
    "JOIN league AS l\n",
    "ON m.league_id = l.id\n",
    "JOIN team AS t1\n",
    "ON m.home_team_api_id = t1.team_api_id\n",
    "JOIN team AS t2\n",
    "ON m.away_team_api_id = t2.team_api_id\n",
    "ORDER BY 4;\n",
    "\n",
    "-- Create Home Team records Table\n",
    "SELECT\n",
    "\t  home_team AS team,\n",
    "\t  season,\n",
    "      country,\n",
    "      league,\n",
    "      SUM(home_team_goal) AS goals_scored,\n",
    "      SUM(away_team_goal) AS goals_against,\n",
    "\t  SUM(win_home) AS wins,\n",
    "\t  SUM(win_away) AS losses,\n",
    "\t  SUM(tie) AS ties\n",
    "FROM combined\n",
    "GROUP BY 1, 2\n",
    "ORDER BY 2;\n",
    "\n",
    "-- Create Away Team records Table\n",
    "SELECT\n",
    "      away_team AS team,\n",
    "      season,\n",
    "      SUM(away_team_goal) AS goals_scored,\n",
    "      SUM(home_team_goal) AS goals_against,\n",
    "      SUM(win_away) AS wins,\n",
    "\t  SUM(win_home) AS losses,\n",
    "\t  SUM(tie) AS ties\n",
    "FROM combined\n",
    "GROUP BY 1, 2\n",
    "ORDER BY 2;\n",
    "\n",
    "-- Create total wins/losses/ties/goals_scored/goals_against table\n",
    "with t1 AS (\n",
    "  SELECT\n",
    "  \t\thome_team AS team,\n",
    "  \t\tseason,\n",
    "        country,\n",
    "        league,\n",
    "        SUM(home_team_goal) AS goals_scored,\n",
    "        SUM(away_team_goal) AS goals_against,\n",
    "  \t\tSUM(win_home) AS wins,\n",
    "  \t\tSUM(win_away) AS losses,\n",
    "  \t\tSUM(tie) AS ties\n",
    "  FROM combined\n",
    "  GROUP BY 1, 2\n",
    "  ORDER BY 2\n",
    "),\n",
    "\n",
    "t2 AS (\n",
    "  SELECT\n",
    "        away_team AS team,\n",
    "        season,\n",
    "        SUM(away_team_goal) AS goals_scored,\n",
    "        SUM(home_team_goal) AS goals_against,\n",
    "        SUM(win_away) AS wins,\n",
    "\t\tSUM(win_home) AS losses,\n",
    "\t\tSUM(tie) AS ties\n",
    "FROM combined\n",
    "GROUP BY 1, 2\n",
    "ORDER BY 2)\n",
    "\n",
    "SELECT t1.team,\n",
    "       t1.season,\n",
    "       t1.country,\n",
    "       t1.league,\n",
    "       t1.goals_scored + t2.goals_scored AS goals_scored,\n",
    "       t1.goals_against + t2.goals_against AS goals_against,\n",
    "       t1.wins + t2.wins AS wins,\n",
    "       t1.losses + t2.losses AS losses,\n",
    "       t1.ties + t2.ties AS ties\n",
    "FROM t1\n",
    "JOIN t2\n",
    "ON t1.team = t2.team AND t1.season = t2.season\n",
    "ORDER BY 2, 1;\n",
    "```"
   ]
  },
  {
   "cell_type": "code",
   "execution_count": 53,
   "metadata": {},
   "outputs": [
    {
     "data": {
      "text/html": [
       "<div>\n",
       "<style scoped>\n",
       "    .dataframe tbody tr th:only-of-type {\n",
       "        vertical-align: middle;\n",
       "    }\n",
       "\n",
       "    .dataframe tbody tr th {\n",
       "        vertical-align: top;\n",
       "    }\n",
       "\n",
       "    .dataframe thead th {\n",
       "        text-align: right;\n",
       "    }\n",
       "</style>\n",
       "<table border=\"1\" class=\"dataframe\">\n",
       "  <thead>\n",
       "    <tr style=\"text-align: right;\">\n",
       "      <th></th>\n",
       "      <th>team</th>\n",
       "      <th>season</th>\n",
       "      <th>country</th>\n",
       "      <th>league</th>\n",
       "      <th>goals_scored</th>\n",
       "      <th>goals_against</th>\n",
       "      <th>wins</th>\n",
       "      <th>losses</th>\n",
       "      <th>ties</th>\n",
       "    </tr>\n",
       "  </thead>\n",
       "  <tbody>\n",
       "    <tr>\n",
       "      <th>0</th>\n",
       "      <td>RSC Anderlecht</td>\n",
       "      <td>2008/2009</td>\n",
       "      <td>Belgium</td>\n",
       "      <td>Belgium Jupiler League</td>\n",
       "      <td>75</td>\n",
       "      <td>30</td>\n",
       "      <td>24</td>\n",
       "      <td>5</td>\n",
       "      <td>5</td>\n",
       "    </tr>\n",
       "    <tr>\n",
       "      <th>1</th>\n",
       "      <td>Standard de Liège</td>\n",
       "      <td>2008/2009</td>\n",
       "      <td>Belgium</td>\n",
       "      <td>Belgium Jupiler League</td>\n",
       "      <td>66</td>\n",
       "      <td>26</td>\n",
       "      <td>24</td>\n",
       "      <td>5</td>\n",
       "      <td>5</td>\n",
       "    </tr>\n",
       "    <tr>\n",
       "      <th>2</th>\n",
       "      <td>Club Brugge KV</td>\n",
       "      <td>2008/2009</td>\n",
       "      <td>Belgium</td>\n",
       "      <td>Belgium Jupiler League</td>\n",
       "      <td>59</td>\n",
       "      <td>50</td>\n",
       "      <td>18</td>\n",
       "      <td>11</td>\n",
       "      <td>5</td>\n",
       "    </tr>\n",
       "    <tr>\n",
       "      <th>3</th>\n",
       "      <td>KAA Gent</td>\n",
       "      <td>2008/2009</td>\n",
       "      <td>Belgium</td>\n",
       "      <td>Belgium Jupiler League</td>\n",
       "      <td>67</td>\n",
       "      <td>42</td>\n",
       "      <td>17</td>\n",
       "      <td>9</td>\n",
       "      <td>8</td>\n",
       "    </tr>\n",
       "    <tr>\n",
       "      <th>4</th>\n",
       "      <td>SV Zulte-Waregem</td>\n",
       "      <td>2008/2009</td>\n",
       "      <td>Belgium</td>\n",
       "      <td>Belgium Jupiler League</td>\n",
       "      <td>55</td>\n",
       "      <td>36</td>\n",
       "      <td>16</td>\n",
       "      <td>11</td>\n",
       "      <td>7</td>\n",
       "    </tr>\n",
       "  </tbody>\n",
       "</table>\n",
       "</div>"
      ],
      "text/plain": [
       "                team     season  country                  league  \\\n",
       "0     RSC Anderlecht  2008/2009  Belgium  Belgium Jupiler League   \n",
       "1  Standard de Liège  2008/2009  Belgium  Belgium Jupiler League   \n",
       "2     Club Brugge KV  2008/2009  Belgium  Belgium Jupiler League   \n",
       "3           KAA Gent  2008/2009  Belgium  Belgium Jupiler League   \n",
       "4   SV Zulte-Waregem  2008/2009  Belgium  Belgium Jupiler League   \n",
       "\n",
       "   goals_scored  goals_against  wins  losses  ties  \n",
       "0            75             30    24       5     5  \n",
       "1            66             26    24       5     5  \n",
       "2            59             50    18      11     5  \n",
       "3            67             42    17       9     8  \n",
       "4            55             36    16      11     7  "
      ]
     },
     "execution_count": 53,
     "metadata": {},
     "output_type": "execute_result"
    }
   ],
   "source": [
    "# Read in and preview the data file\n",
    "df = pd.read_csv('combined_soccer_data.csv')\n",
    "df.head()"
   ]
  },
  {
   "cell_type": "code",
   "execution_count": 54,
   "metadata": {},
   "outputs": [
    {
     "name": "stdout",
     "output_type": "stream",
     "text": [
      "<class 'pandas.core.frame.DataFrame'>\n",
      "RangeIndex: 1478 entries, 0 to 1477\n",
      "Data columns (total 9 columns):\n",
      " #   Column         Non-Null Count  Dtype \n",
      "---  ------         --------------  ----- \n",
      " 0   team           1478 non-null   object\n",
      " 1   season         1478 non-null   object\n",
      " 2   country        1478 non-null   object\n",
      " 3   league         1478 non-null   object\n",
      " 4   goals_scored   1478 non-null   int64 \n",
      " 5   goals_against  1478 non-null   int64 \n",
      " 6   wins           1478 non-null   int64 \n",
      " 7   losses         1478 non-null   int64 \n",
      " 8   ties           1478 non-null   int64 \n",
      "dtypes: int64(5), object(4)\n",
      "memory usage: 104.0+ KB\n"
     ]
    }
   ],
   "source": [
    "# inspect the data for any nulls\n",
    "df.info()"
   ]
  },
  {
   "cell_type": "code",
   "execution_count": 55,
   "metadata": {},
   "outputs": [
    {
     "data": {
      "text/html": [
       "<div>\n",
       "<style scoped>\n",
       "    .dataframe tbody tr th:only-of-type {\n",
       "        vertical-align: middle;\n",
       "    }\n",
       "\n",
       "    .dataframe tbody tr th {\n",
       "        vertical-align: top;\n",
       "    }\n",
       "\n",
       "    .dataframe thead th {\n",
       "        text-align: right;\n",
       "    }\n",
       "</style>\n",
       "<table border=\"1\" class=\"dataframe\">\n",
       "  <thead>\n",
       "    <tr style=\"text-align: right;\">\n",
       "      <th></th>\n",
       "      <th>goals_scored</th>\n",
       "      <th>goals_against</th>\n",
       "      <th>wins</th>\n",
       "      <th>losses</th>\n",
       "      <th>ties</th>\n",
       "    </tr>\n",
       "  </thead>\n",
       "  <tbody>\n",
       "    <tr>\n",
       "      <th>count</th>\n",
       "      <td>1478.000000</td>\n",
       "      <td>1478.000000</td>\n",
       "      <td>1478.000000</td>\n",
       "      <td>1478.000000</td>\n",
       "      <td>1478.000000</td>\n",
       "    </tr>\n",
       "    <tr>\n",
       "      <th>mean</th>\n",
       "      <td>47.555480</td>\n",
       "      <td>47.555480</td>\n",
       "      <td>13.114344</td>\n",
       "      <td>13.114344</td>\n",
       "      <td>8.925575</td>\n",
       "    </tr>\n",
       "    <tr>\n",
       "      <th>std</th>\n",
       "      <td>15.895455</td>\n",
       "      <td>13.116502</td>\n",
       "      <td>5.566954</td>\n",
       "      <td>5.166010</td>\n",
       "      <td>2.934608</td>\n",
       "    </tr>\n",
       "    <tr>\n",
       "      <th>min</th>\n",
       "      <td>5.000000</td>\n",
       "      <td>1.000000</td>\n",
       "      <td>1.000000</td>\n",
       "      <td>0.000000</td>\n",
       "      <td>0.000000</td>\n",
       "    </tr>\n",
       "    <tr>\n",
       "      <th>25%</th>\n",
       "      <td>37.000000</td>\n",
       "      <td>39.000000</td>\n",
       "      <td>9.000000</td>\n",
       "      <td>10.000000</td>\n",
       "      <td>7.000000</td>\n",
       "    </tr>\n",
       "    <tr>\n",
       "      <th>50%</th>\n",
       "      <td>45.000000</td>\n",
       "      <td>48.000000</td>\n",
       "      <td>12.000000</td>\n",
       "      <td>13.000000</td>\n",
       "      <td>9.000000</td>\n",
       "    </tr>\n",
       "    <tr>\n",
       "      <th>75%</th>\n",
       "      <td>55.000000</td>\n",
       "      <td>56.000000</td>\n",
       "      <td>16.000000</td>\n",
       "      <td>17.000000</td>\n",
       "      <td>11.000000</td>\n",
       "    </tr>\n",
       "    <tr>\n",
       "      <th>max</th>\n",
       "      <td>121.000000</td>\n",
       "      <td>98.000000</td>\n",
       "      <td>33.000000</td>\n",
       "      <td>30.000000</td>\n",
       "      <td>21.000000</td>\n",
       "    </tr>\n",
       "  </tbody>\n",
       "</table>\n",
       "</div>"
      ],
      "text/plain": [
       "       goals_scored  goals_against         wins       losses         ties\n",
       "count   1478.000000    1478.000000  1478.000000  1478.000000  1478.000000\n",
       "mean      47.555480      47.555480    13.114344    13.114344     8.925575\n",
       "std       15.895455      13.116502     5.566954     5.166010     2.934608\n",
       "min        5.000000       1.000000     1.000000     0.000000     0.000000\n",
       "25%       37.000000      39.000000     9.000000    10.000000     7.000000\n",
       "50%       45.000000      48.000000    12.000000    13.000000     9.000000\n",
       "75%       55.000000      56.000000    16.000000    17.000000    11.000000\n",
       "max      121.000000      98.000000    33.000000    30.000000    21.000000"
      ]
     },
     "execution_count": 55,
     "metadata": {},
     "output_type": "execute_result"
    }
   ],
   "source": [
    "# View dataframe summary statistics \n",
    "df.describe()"
   ]
  },
  {
   "cell_type": "code",
   "execution_count": 56,
   "metadata": {},
   "outputs": [
    {
     "data": {
      "text/plain": [
       "2014/2015    188\n",
       "2015/2016    188\n",
       "2008/2009    187\n",
       "2012/2013    186\n",
       "2009/2010    185\n",
       "2010/2011    185\n",
       "2011/2012    185\n",
       "2013/2014    174\n",
       "Name: season, dtype: int64"
      ]
     },
     "execution_count": 56,
     "metadata": {},
     "output_type": "execute_result"
    }
   ],
   "source": [
    "df['season'].value_counts()"
   ]
  },
  {
   "cell_type": "code",
   "execution_count": 17,
   "metadata": {},
   "outputs": [
    {
     "data": {
      "text/plain": [
       "league\n",
       "Spain LIGA BBVA             8412\n",
       "England Premier League      8240\n",
       "Italy Serie A               7895\n",
       "Netherlands Eredivisie      7542\n",
       "France Ligue 1              7427\n",
       "Germany 1. Bundesliga       7103\n",
       "Portugal Liga ZON Sagres    5201\n",
       "Belgium Jupiler League      4841\n",
       "Scotland Premier League     4804\n",
       "Poland Ekstraklasa          4656\n",
       "Switzerland Super League    4166\n",
       "Name: goals_scored, dtype: int64"
      ]
     },
     "execution_count": 17,
     "metadata": {},
     "output_type": "execute_result"
    }
   ],
   "source": [
    "df.groupby('league')['goals_scored'].sum().sort_values(ascending=False)"
   ]
  },
  {
   "cell_type": "code",
   "execution_count": 19,
   "metadata": {},
   "outputs": [
    {
     "data": {
      "text/plain": [
       "league\n",
       "England Premier League      160\n",
       "France Ligue 1              160\n",
       "Italy Serie A               160\n",
       "Spain LIGA BBVA             160\n",
       "Germany 1. Bundesliga       144\n",
       "Netherlands Eredivisie      144\n",
       "Portugal Liga ZON Sagres    132\n",
       "Poland Ekstraklasa          125\n",
       "Belgium Jupiler League      117\n",
       "Scotland Premier League      96\n",
       "Switzerland Super League     80\n",
       "Name: team, dtype: int64"
      ]
     },
     "execution_count": 19,
     "metadata": {},
     "output_type": "execute_result"
    }
   ],
   "source": [
    "df.groupby('league')['team'].count().sort_values(ascending=False)"
   ]
  },
  {
   "cell_type": "markdown",
   "metadata": {},
   "source": [
    "### Data Cleaning\n",
    "\n",
    "> Much of the data cleaning was achieved in the SQL query csv export. There are no nulls in the dataframe. All datatypes are consistent for processing. The following columns are created below in order to answer relevant questions:\n",
    "> * Win Percentage (win_pct)\n",
    "> * Goals Scored Average (gs_avg)\n",
    "> * Goals Against Average (ga_avg)\n",
    "> * Scoring Differential Average (score_diff_avg)\n",
    "> * Overall Win Percentage (overall_win_pct)\n",
    "\n",
    "> Win Percentage in the UEFA is calculated as (2 × Wins + Ties) / (2 × Total Games Played) × 100, with ties representing half the value of wins. \n",
    "\n",
    "> The following columns are renamed for brevity:\n",
    "> * wins (W)\n",
    "> * losses (L)\n",
    "> * ties (T)"
   ]
  },
  {
   "cell_type": "code",
   "execution_count": 220,
   "metadata": {},
   "outputs": [
    {
     "data": {
      "text/html": [
       "<div>\n",
       "<style scoped>\n",
       "    .dataframe tbody tr th:only-of-type {\n",
       "        vertical-align: middle;\n",
       "    }\n",
       "\n",
       "    .dataframe tbody tr th {\n",
       "        vertical-align: top;\n",
       "    }\n",
       "\n",
       "    .dataframe thead th {\n",
       "        text-align: right;\n",
       "    }\n",
       "</style>\n",
       "<table border=\"1\" class=\"dataframe\">\n",
       "  <thead>\n",
       "    <tr style=\"text-align: right;\">\n",
       "      <th></th>\n",
       "      <th>team</th>\n",
       "      <th>season</th>\n",
       "      <th>country</th>\n",
       "      <th>league</th>\n",
       "      <th>goals_scored</th>\n",
       "      <th>goals_against</th>\n",
       "      <th>W</th>\n",
       "      <th>L</th>\n",
       "      <th>T</th>\n",
       "      <th>win_pct</th>\n",
       "      <th>overall_win_pct</th>\n",
       "    </tr>\n",
       "  </thead>\n",
       "  <tbody>\n",
       "    <tr>\n",
       "      <th>0</th>\n",
       "      <td>RSC Anderlecht</td>\n",
       "      <td>2008/2009</td>\n",
       "      <td>Belgium</td>\n",
       "      <td>Belgium Jupiler League</td>\n",
       "      <td>75</td>\n",
       "      <td>30</td>\n",
       "      <td>24</td>\n",
       "      <td>5</td>\n",
       "      <td>5</td>\n",
       "      <td>0.705882</td>\n",
       "      <td>0.641657</td>\n",
       "    </tr>\n",
       "    <tr>\n",
       "      <th>1</th>\n",
       "      <td>Standard de Liège</td>\n",
       "      <td>2008/2009</td>\n",
       "      <td>Belgium</td>\n",
       "      <td>Belgium Jupiler League</td>\n",
       "      <td>66</td>\n",
       "      <td>26</td>\n",
       "      <td>24</td>\n",
       "      <td>5</td>\n",
       "      <td>5</td>\n",
       "      <td>0.705882</td>\n",
       "      <td>0.494718</td>\n",
       "    </tr>\n",
       "    <tr>\n",
       "      <th>2</th>\n",
       "      <td>Club Brugge KV</td>\n",
       "      <td>2008/2009</td>\n",
       "      <td>Belgium</td>\n",
       "      <td>Belgium Jupiler League</td>\n",
       "      <td>59</td>\n",
       "      <td>50</td>\n",
       "      <td>18</td>\n",
       "      <td>11</td>\n",
       "      <td>5</td>\n",
       "      <td>0.529412</td>\n",
       "      <td>0.581413</td>\n",
       "    </tr>\n",
       "    <tr>\n",
       "      <th>3</th>\n",
       "      <td>KAA Gent</td>\n",
       "      <td>2008/2009</td>\n",
       "      <td>Belgium</td>\n",
       "      <td>Belgium Jupiler League</td>\n",
       "      <td>67</td>\n",
       "      <td>42</td>\n",
       "      <td>17</td>\n",
       "      <td>9</td>\n",
       "      <td>8</td>\n",
       "      <td>0.500000</td>\n",
       "      <td>0.500000</td>\n",
       "    </tr>\n",
       "    <tr>\n",
       "      <th>4</th>\n",
       "      <td>SV Zulte-Waregem</td>\n",
       "      <td>2008/2009</td>\n",
       "      <td>Belgium</td>\n",
       "      <td>Belgium Jupiler League</td>\n",
       "      <td>55</td>\n",
       "      <td>36</td>\n",
       "      <td>16</td>\n",
       "      <td>11</td>\n",
       "      <td>7</td>\n",
       "      <td>0.470588</td>\n",
       "      <td>0.365866</td>\n",
       "    </tr>\n",
       "  </tbody>\n",
       "</table>\n",
       "</div>"
      ],
      "text/plain": [
       "                team     season  country                  league  \\\n",
       "0     RSC Anderlecht  2008/2009  Belgium  Belgium Jupiler League   \n",
       "1  Standard de Liège  2008/2009  Belgium  Belgium Jupiler League   \n",
       "2     Club Brugge KV  2008/2009  Belgium  Belgium Jupiler League   \n",
       "3           KAA Gent  2008/2009  Belgium  Belgium Jupiler League   \n",
       "4   SV Zulte-Waregem  2008/2009  Belgium  Belgium Jupiler League   \n",
       "\n",
       "   goals_scored  goals_against   W   L  T   win_pct  overall_win_pct  \n",
       "0            75             30  24   5  5  0.705882         0.641657  \n",
       "1            66             26  24   5  5  0.705882         0.494718  \n",
       "2            59             50  18  11  5  0.529412         0.581413  \n",
       "3            67             42  17   9  8  0.500000         0.500000  \n",
       "4            55             36  16  11  7  0.470588         0.365866  "
      ]
     },
     "execution_count": 220,
     "metadata": {},
     "output_type": "execute_result"
    }
   ],
   "source": [
    "# Rename columns wins: W, losses: L, ties: T\n",
    "df.rename(columns={\"wins\": \"W\", \"losses\": \"L\", \"ties\": \"T\"}, inplace=True)\n",
    "df.head()"
   ]
  },
  {
   "cell_type": "code",
   "execution_count": 229,
   "metadata": {},
   "outputs": [
    {
     "data": {
      "text/html": [
       "<div>\n",
       "<style scoped>\n",
       "    .dataframe tbody tr th:only-of-type {\n",
       "        vertical-align: middle;\n",
       "    }\n",
       "\n",
       "    .dataframe tbody tr th {\n",
       "        vertical-align: top;\n",
       "    }\n",
       "\n",
       "    .dataframe thead th {\n",
       "        text-align: right;\n",
       "    }\n",
       "</style>\n",
       "<table border=\"1\" class=\"dataframe\">\n",
       "  <thead>\n",
       "    <tr style=\"text-align: right;\">\n",
       "      <th></th>\n",
       "      <th>team</th>\n",
       "      <th>season</th>\n",
       "      <th>country</th>\n",
       "      <th>league</th>\n",
       "      <th>goals_scored</th>\n",
       "      <th>goals_against</th>\n",
       "      <th>W</th>\n",
       "      <th>L</th>\n",
       "      <th>T</th>\n",
       "      <th>win_pct</th>\n",
       "      <th>overall_win_pct</th>\n",
       "    </tr>\n",
       "  </thead>\n",
       "  <tbody>\n",
       "    <tr>\n",
       "      <th>0</th>\n",
       "      <td>RSC Anderlecht</td>\n",
       "      <td>2008/2009</td>\n",
       "      <td>Belgium</td>\n",
       "      <td>Belgium Jupiler League</td>\n",
       "      <td>75</td>\n",
       "      <td>30</td>\n",
       "      <td>24</td>\n",
       "      <td>5</td>\n",
       "      <td>5</td>\n",
       "      <td>77.94</td>\n",
       "      <td>0.641657</td>\n",
       "    </tr>\n",
       "    <tr>\n",
       "      <th>1</th>\n",
       "      <td>Standard de Liège</td>\n",
       "      <td>2008/2009</td>\n",
       "      <td>Belgium</td>\n",
       "      <td>Belgium Jupiler League</td>\n",
       "      <td>66</td>\n",
       "      <td>26</td>\n",
       "      <td>24</td>\n",
       "      <td>5</td>\n",
       "      <td>5</td>\n",
       "      <td>77.94</td>\n",
       "      <td>0.494718</td>\n",
       "    </tr>\n",
       "    <tr>\n",
       "      <th>2</th>\n",
       "      <td>Club Brugge KV</td>\n",
       "      <td>2008/2009</td>\n",
       "      <td>Belgium</td>\n",
       "      <td>Belgium Jupiler League</td>\n",
       "      <td>59</td>\n",
       "      <td>50</td>\n",
       "      <td>18</td>\n",
       "      <td>11</td>\n",
       "      <td>5</td>\n",
       "      <td>60.29</td>\n",
       "      <td>0.581413</td>\n",
       "    </tr>\n",
       "    <tr>\n",
       "      <th>3</th>\n",
       "      <td>KAA Gent</td>\n",
       "      <td>2008/2009</td>\n",
       "      <td>Belgium</td>\n",
       "      <td>Belgium Jupiler League</td>\n",
       "      <td>67</td>\n",
       "      <td>42</td>\n",
       "      <td>17</td>\n",
       "      <td>9</td>\n",
       "      <td>8</td>\n",
       "      <td>61.76</td>\n",
       "      <td>0.500000</td>\n",
       "    </tr>\n",
       "    <tr>\n",
       "      <th>4</th>\n",
       "      <td>SV Zulte-Waregem</td>\n",
       "      <td>2008/2009</td>\n",
       "      <td>Belgium</td>\n",
       "      <td>Belgium Jupiler League</td>\n",
       "      <td>55</td>\n",
       "      <td>36</td>\n",
       "      <td>16</td>\n",
       "      <td>11</td>\n",
       "      <td>7</td>\n",
       "      <td>57.35</td>\n",
       "      <td>0.365866</td>\n",
       "    </tr>\n",
       "  </tbody>\n",
       "</table>\n",
       "</div>"
      ],
      "text/plain": [
       "                team     season  country                  league  \\\n",
       "0     RSC Anderlecht  2008/2009  Belgium  Belgium Jupiler League   \n",
       "1  Standard de Liège  2008/2009  Belgium  Belgium Jupiler League   \n",
       "2     Club Brugge KV  2008/2009  Belgium  Belgium Jupiler League   \n",
       "3           KAA Gent  2008/2009  Belgium  Belgium Jupiler League   \n",
       "4   SV Zulte-Waregem  2008/2009  Belgium  Belgium Jupiler League   \n",
       "\n",
       "   goals_scored  goals_against   W   L  T  win_pct  overall_win_pct  \n",
       "0            75             30  24   5  5    77.94         0.641657  \n",
       "1            66             26  24   5  5    77.94         0.494718  \n",
       "2            59             50  18  11  5    60.29         0.581413  \n",
       "3            67             42  17   9  8    61.76         0.500000  \n",
       "4            55             36  16  11  7    57.35         0.365866  "
      ]
     },
     "execution_count": 229,
     "metadata": {},
     "output_type": "execute_result"
    }
   ],
   "source": [
    "# Calculate and Create Win Percentage (win_pct) column\n",
    "df['win_pct'] = ((((df['W'] * 2) + df['T']) / ((df['W'] + df['L'] + df['T']) * 2)) * 100).round(2)\n",
    "df.head()"
   ]
  },
  {
   "cell_type": "code",
   "execution_count": 231,
   "metadata": {},
   "outputs": [
    {
     "data": {
      "text/html": [
       "<div>\n",
       "<style scoped>\n",
       "    .dataframe tbody tr th:only-of-type {\n",
       "        vertical-align: middle;\n",
       "    }\n",
       "\n",
       "    .dataframe tbody tr th {\n",
       "        vertical-align: top;\n",
       "    }\n",
       "\n",
       "    .dataframe thead th {\n",
       "        text-align: right;\n",
       "    }\n",
       "</style>\n",
       "<table border=\"1\" class=\"dataframe\">\n",
       "  <thead>\n",
       "    <tr style=\"text-align: right;\">\n",
       "      <th></th>\n",
       "      <th>team</th>\n",
       "      <th>season</th>\n",
       "      <th>country</th>\n",
       "      <th>league</th>\n",
       "      <th>goals_scored</th>\n",
       "      <th>goals_against</th>\n",
       "      <th>W</th>\n",
       "      <th>L</th>\n",
       "      <th>T</th>\n",
       "      <th>win_pct</th>\n",
       "      <th>overall_win_pct</th>\n",
       "      <th>gs_avg</th>\n",
       "      <th>ga_avg</th>\n",
       "      <th>score_diff_avg</th>\n",
       "    </tr>\n",
       "  </thead>\n",
       "  <tbody>\n",
       "    <tr>\n",
       "      <th>0</th>\n",
       "      <td>RSC Anderlecht</td>\n",
       "      <td>2008/2009</td>\n",
       "      <td>Belgium</td>\n",
       "      <td>Belgium Jupiler League</td>\n",
       "      <td>75</td>\n",
       "      <td>30</td>\n",
       "      <td>24</td>\n",
       "      <td>5</td>\n",
       "      <td>5</td>\n",
       "      <td>77.94</td>\n",
       "      <td>0.641657</td>\n",
       "      <td>2.21</td>\n",
       "      <td>0.88</td>\n",
       "      <td>1.33</td>\n",
       "    </tr>\n",
       "    <tr>\n",
       "      <th>1</th>\n",
       "      <td>Standard de Liège</td>\n",
       "      <td>2008/2009</td>\n",
       "      <td>Belgium</td>\n",
       "      <td>Belgium Jupiler League</td>\n",
       "      <td>66</td>\n",
       "      <td>26</td>\n",
       "      <td>24</td>\n",
       "      <td>5</td>\n",
       "      <td>5</td>\n",
       "      <td>77.94</td>\n",
       "      <td>0.494718</td>\n",
       "      <td>1.94</td>\n",
       "      <td>0.76</td>\n",
       "      <td>1.18</td>\n",
       "    </tr>\n",
       "    <tr>\n",
       "      <th>2</th>\n",
       "      <td>Club Brugge KV</td>\n",
       "      <td>2008/2009</td>\n",
       "      <td>Belgium</td>\n",
       "      <td>Belgium Jupiler League</td>\n",
       "      <td>59</td>\n",
       "      <td>50</td>\n",
       "      <td>18</td>\n",
       "      <td>11</td>\n",
       "      <td>5</td>\n",
       "      <td>60.29</td>\n",
       "      <td>0.581413</td>\n",
       "      <td>1.74</td>\n",
       "      <td>1.47</td>\n",
       "      <td>0.27</td>\n",
       "    </tr>\n",
       "    <tr>\n",
       "      <th>3</th>\n",
       "      <td>KAA Gent</td>\n",
       "      <td>2008/2009</td>\n",
       "      <td>Belgium</td>\n",
       "      <td>Belgium Jupiler League</td>\n",
       "      <td>67</td>\n",
       "      <td>42</td>\n",
       "      <td>17</td>\n",
       "      <td>9</td>\n",
       "      <td>8</td>\n",
       "      <td>61.76</td>\n",
       "      <td>0.500000</td>\n",
       "      <td>1.97</td>\n",
       "      <td>1.24</td>\n",
       "      <td>0.73</td>\n",
       "    </tr>\n",
       "    <tr>\n",
       "      <th>4</th>\n",
       "      <td>SV Zulte-Waregem</td>\n",
       "      <td>2008/2009</td>\n",
       "      <td>Belgium</td>\n",
       "      <td>Belgium Jupiler League</td>\n",
       "      <td>55</td>\n",
       "      <td>36</td>\n",
       "      <td>16</td>\n",
       "      <td>11</td>\n",
       "      <td>7</td>\n",
       "      <td>57.35</td>\n",
       "      <td>0.365866</td>\n",
       "      <td>1.62</td>\n",
       "      <td>1.06</td>\n",
       "      <td>0.56</td>\n",
       "    </tr>\n",
       "  </tbody>\n",
       "</table>\n",
       "</div>"
      ],
      "text/plain": [
       "                team     season  country                  league  \\\n",
       "0     RSC Anderlecht  2008/2009  Belgium  Belgium Jupiler League   \n",
       "1  Standard de Liège  2008/2009  Belgium  Belgium Jupiler League   \n",
       "2     Club Brugge KV  2008/2009  Belgium  Belgium Jupiler League   \n",
       "3           KAA Gent  2008/2009  Belgium  Belgium Jupiler League   \n",
       "4   SV Zulte-Waregem  2008/2009  Belgium  Belgium Jupiler League   \n",
       "\n",
       "   goals_scored  goals_against   W   L  T  win_pct  overall_win_pct  gs_avg  \\\n",
       "0            75             30  24   5  5    77.94         0.641657    2.21   \n",
       "1            66             26  24   5  5    77.94         0.494718    1.94   \n",
       "2            59             50  18  11  5    60.29         0.581413    1.74   \n",
       "3            67             42  17   9  8    61.76         0.500000    1.97   \n",
       "4            55             36  16  11  7    57.35         0.365866    1.62   \n",
       "\n",
       "   ga_avg  score_diff_avg  \n",
       "0    0.88            1.33  \n",
       "1    0.76            1.18  \n",
       "2    1.47            0.27  \n",
       "3    1.24            0.73  \n",
       "4    1.06            0.56  "
      ]
     },
     "execution_count": 231,
     "metadata": {},
     "output_type": "execute_result"
    }
   ],
   "source": [
    "# Calculate and Create Goals Scored Averge (gs_avg) column\n",
    "# Calculate and Create Goals Against Average (ga_avg) column\n",
    "# Calculate and Create Scoring Differential Average (score_diff_avg) column\n",
    "df['gs_avg'] = (df['goals_scored'] / (df['W'] + df['L'] + df['T'])).round(2)\n",
    "df['ga_avg'] = (df['goals_against'] / (df['W'] + df['L'] + df['T'])).round(2)\n",
    "df['score_diff_avg'] = (df['gs_avg'] - df['ga_avg']).round(2)\n",
    "df.head()"
   ]
  },
  {
   "cell_type": "code",
   "execution_count": 357,
   "metadata": {},
   "outputs": [
    {
     "data": {
      "text/html": [
       "<div>\n",
       "<style scoped>\n",
       "    .dataframe tbody tr th:only-of-type {\n",
       "        vertical-align: middle;\n",
       "    }\n",
       "\n",
       "    .dataframe tbody tr th {\n",
       "        vertical-align: top;\n",
       "    }\n",
       "\n",
       "    .dataframe thead th {\n",
       "        text-align: right;\n",
       "    }\n",
       "</style>\n",
       "<table border=\"1\" class=\"dataframe\">\n",
       "  <thead>\n",
       "    <tr style=\"text-align: right;\">\n",
       "      <th></th>\n",
       "      <th>team</th>\n",
       "      <th>season</th>\n",
       "      <th>country</th>\n",
       "      <th>league</th>\n",
       "      <th>goals_scored</th>\n",
       "      <th>goals_against</th>\n",
       "      <th>W</th>\n",
       "      <th>L</th>\n",
       "      <th>T</th>\n",
       "      <th>win_pct</th>\n",
       "      <th>overall_win_pct</th>\n",
       "      <th>gs_avg</th>\n",
       "      <th>ga_avg</th>\n",
       "      <th>score_diff_avg</th>\n",
       "    </tr>\n",
       "  </thead>\n",
       "  <tbody>\n",
       "    <tr>\n",
       "      <th>0</th>\n",
       "      <td>RSC Anderlecht</td>\n",
       "      <td>2008/2009</td>\n",
       "      <td>Belgium</td>\n",
       "      <td>Belgium Jupiler League</td>\n",
       "      <td>75</td>\n",
       "      <td>30</td>\n",
       "      <td>24</td>\n",
       "      <td>5</td>\n",
       "      <td>5</td>\n",
       "      <td>77.94</td>\n",
       "      <td>75.74</td>\n",
       "      <td>2.21</td>\n",
       "      <td>0.88</td>\n",
       "      <td>1.33</td>\n",
       "    </tr>\n",
       "    <tr>\n",
       "      <th>1</th>\n",
       "      <td>Standard de Liège</td>\n",
       "      <td>2008/2009</td>\n",
       "      <td>Belgium</td>\n",
       "      <td>Belgium Jupiler League</td>\n",
       "      <td>66</td>\n",
       "      <td>26</td>\n",
       "      <td>24</td>\n",
       "      <td>5</td>\n",
       "      <td>5</td>\n",
       "      <td>77.94</td>\n",
       "      <td>59.49</td>\n",
       "      <td>1.94</td>\n",
       "      <td>0.76</td>\n",
       "      <td>1.18</td>\n",
       "    </tr>\n",
       "    <tr>\n",
       "      <th>2</th>\n",
       "      <td>Club Brugge KV</td>\n",
       "      <td>2008/2009</td>\n",
       "      <td>Belgium</td>\n",
       "      <td>Belgium Jupiler League</td>\n",
       "      <td>59</td>\n",
       "      <td>50</td>\n",
       "      <td>18</td>\n",
       "      <td>11</td>\n",
       "      <td>5</td>\n",
       "      <td>60.29</td>\n",
       "      <td>67.63</td>\n",
       "      <td>1.74</td>\n",
       "      <td>1.47</td>\n",
       "      <td>0.27</td>\n",
       "    </tr>\n",
       "    <tr>\n",
       "      <th>3</th>\n",
       "      <td>KAA Gent</td>\n",
       "      <td>2008/2009</td>\n",
       "      <td>Belgium</td>\n",
       "      <td>Belgium Jupiler League</td>\n",
       "      <td>67</td>\n",
       "      <td>42</td>\n",
       "      <td>17</td>\n",
       "      <td>9</td>\n",
       "      <td>8</td>\n",
       "      <td>61.76</td>\n",
       "      <td>62.20</td>\n",
       "      <td>1.97</td>\n",
       "      <td>1.24</td>\n",
       "      <td>0.73</td>\n",
       "    </tr>\n",
       "    <tr>\n",
       "      <th>4</th>\n",
       "      <td>SV Zulte-Waregem</td>\n",
       "      <td>2008/2009</td>\n",
       "      <td>Belgium</td>\n",
       "      <td>Belgium Jupiler League</td>\n",
       "      <td>55</td>\n",
       "      <td>36</td>\n",
       "      <td>16</td>\n",
       "      <td>11</td>\n",
       "      <td>7</td>\n",
       "      <td>57.35</td>\n",
       "      <td>51.34</td>\n",
       "      <td>1.62</td>\n",
       "      <td>1.06</td>\n",
       "      <td>0.56</td>\n",
       "    </tr>\n",
       "  </tbody>\n",
       "</table>\n",
       "</div>"
      ],
      "text/plain": [
       "                team     season  country                  league  \\\n",
       "0     RSC Anderlecht  2008/2009  Belgium  Belgium Jupiler League   \n",
       "1  Standard de Liège  2008/2009  Belgium  Belgium Jupiler League   \n",
       "2     Club Brugge KV  2008/2009  Belgium  Belgium Jupiler League   \n",
       "3           KAA Gent  2008/2009  Belgium  Belgium Jupiler League   \n",
       "4   SV Zulte-Waregem  2008/2009  Belgium  Belgium Jupiler League   \n",
       "\n",
       "   goals_scored  goals_against   W   L  T  win_pct  overall_win_pct  gs_avg  \\\n",
       "0            75             30  24   5  5    77.94            75.74    2.21   \n",
       "1            66             26  24   5  5    77.94            59.49    1.94   \n",
       "2            59             50  18  11  5    60.29            67.63    1.74   \n",
       "3            67             42  17   9  8    61.76            62.20    1.97   \n",
       "4            55             36  16  11  7    57.35            51.34    1.62   \n",
       "\n",
       "   ga_avg  score_diff_avg  \n",
       "0    0.88            1.33  \n",
       "1    0.76            1.18  \n",
       "2    1.47            0.27  \n",
       "3    1.24            0.73  \n",
       "4    1.06            0.56  "
      ]
     },
     "execution_count": 357,
     "metadata": {},
     "output_type": "execute_result"
    }
   ],
   "source": [
    "# Create and Calculate Overall Win Percentage (overall_win_pct) column\n",
    "overall_win_pct = df.groupby('team').mean()['win_pct']\n",
    "df['overall_win_pct'] = df.team.map(overall_win_pct).round(2)\n",
    "df.head()"
   ]
  },
  {
   "cell_type": "markdown",
   "metadata": {},
   "source": [
    "<a id='eda'></a>\n",
    "## Exploratory Data Analysis\n",
    "\n",
    "### Which teams had the highest win percentage between the 2008/2009 and 2015/2016 seasons? "
   ]
  },
  {
   "cell_type": "code",
   "execution_count": 358,
   "metadata": {},
   "outputs": [
    {
     "data": {
      "text/plain": [
       "team\n",
       "FC Barcelona        84.04\n",
       "FC Porto            82.38\n",
       "SL Benfica          81.72\n",
       "Real Madrid CF      80.92\n",
       "Celtic              79.93\n",
       "Rangers             79.28\n",
       "FC Bayern Munich    79.05\n",
       "Ajax                77.39\n",
       "RSC Anderlecht      75.74\n",
       "FC Basel            74.14\n",
       "Name: overall_win_pct, dtype: float64"
      ]
     },
     "execution_count": 358,
     "metadata": {},
     "output_type": "execute_result"
    }
   ],
   "source": [
    "# Create a function to calculate single column groupby's sorted in descending order\n",
    "def group_sort(column, value):\n",
    "    '''takes a dataframe column and value and performs a groupby mean calculation\n",
    "    sorted in descending order'''\n",
    "    return df.groupby(column)[value].mean().sort_values(ascending=False)\n",
    "\n",
    "group_sort('team','overall_win_pct').head(10)"
   ]
  },
  {
   "cell_type": "code",
   "execution_count": 234,
   "metadata": {},
   "outputs": [
    {
     "data": {
      "image/png": "[encoded data removed]",
      "text/plain": [
       "<Figure size 432x288 with 1 Axes>"
      ]
     },
     "metadata": {
      "needs_background": "light"
     },
     "output_type": "display_data"
    }
   ],
   "source": [
    "# Plot the distribution of Overall Win Percentages\n",
    "overall_win_pct.hist();"
   ]
  },
  {
   "cell_type": "markdown",
   "metadata": {},
   "source": [
    "It appears that most team overall win percentages are below 50%, let's take a closer look"
   ]
  },
  {
   "cell_type": "code",
   "execution_count": 237,
   "metadata": {},
   "outputs": [
    {
     "data": {
      "text/plain": [
       "count    296.000000\n",
       "mean      45.366659\n",
       "std       12.215030\n",
       "min       21.050000\n",
       "25%       36.736667\n",
       "50%       43.216190\n",
       "75%       51.222500\n",
       "max       84.045000\n",
       "Name: win_pct, dtype: float64"
      ]
     },
     "execution_count": 237,
     "metadata": {},
     "output_type": "execute_result"
    }
   ],
   "source": [
    "overall_win_pct.describe()"
   ]
  },
  {
   "cell_type": "markdown",
   "metadata": {},
   "source": [
    "Of 296 teams, the mean overall win percentage is 45.36. The median overall win percentage is 43.21. 75% of teams have overall win percentages of 51.22 or below. "
   ]
  },
  {
   "cell_type": "markdown",
   "metadata": {},
   "source": [
    "Which teams had the highest *single season* win percentages between 2008 and 2016?"
   ]
  },
  {
   "cell_type": "code",
   "execution_count": 251,
   "metadata": {},
   "outputs": [
    {
     "data": {
      "text/html": [
       "<div>\n",
       "<style scoped>\n",
       "    .dataframe tbody tr th:only-of-type {\n",
       "        vertical-align: middle;\n",
       "    }\n",
       "\n",
       "    .dataframe tbody tr th {\n",
       "        vertical-align: top;\n",
       "    }\n",
       "\n",
       "    .dataframe thead th {\n",
       "        text-align: right;\n",
       "    }\n",
       "</style>\n",
       "<table border=\"1\" class=\"dataframe\">\n",
       "  <thead>\n",
       "    <tr style=\"text-align: right;\">\n",
       "      <th></th>\n",
       "      <th>team</th>\n",
       "      <th>season</th>\n",
       "      <th>win_pct</th>\n",
       "    </tr>\n",
       "  </thead>\n",
       "  <tbody>\n",
       "    <tr>\n",
       "      <th>1042</th>\n",
       "      <td>FC Porto</td>\n",
       "      <td>2010/2011</td>\n",
       "      <td>95.00</td>\n",
       "    </tr>\n",
       "    <tr>\n",
       "      <th>509</th>\n",
       "      <td>FC Bayern Munich</td>\n",
       "      <td>2012/2013</td>\n",
       "      <td>91.18</td>\n",
       "    </tr>\n",
       "    <tr>\n",
       "      <th>681</th>\n",
       "      <td>Juventus</td>\n",
       "      <td>2013/2014</td>\n",
       "      <td>90.79</td>\n",
       "    </tr>\n",
       "    <tr>\n",
       "      <th>1074</th>\n",
       "      <td>FC Porto</td>\n",
       "      <td>2012/2013</td>\n",
       "      <td>90.00</td>\n",
       "    </tr>\n",
       "    <tr>\n",
       "      <th>527</th>\n",
       "      <td>FC Bayern Munich</td>\n",
       "      <td>2013/2014</td>\n",
       "      <td>89.71</td>\n",
       "    </tr>\n",
       "    <tr>\n",
       "      <th>1258</th>\n",
       "      <td>FC Barcelona</td>\n",
       "      <td>2009/2010</td>\n",
       "      <td>89.47</td>\n",
       "    </tr>\n",
       "    <tr>\n",
       "      <th>1298</th>\n",
       "      <td>Real Madrid CF</td>\n",
       "      <td>2011/2012</td>\n",
       "      <td>89.47</td>\n",
       "    </tr>\n",
       "    <tr>\n",
       "      <th>1318</th>\n",
       "      <td>FC Barcelona</td>\n",
       "      <td>2012/2013</td>\n",
       "      <td>89.47</td>\n",
       "    </tr>\n",
       "    <tr>\n",
       "      <th>1202</th>\n",
       "      <td>Celtic</td>\n",
       "      <td>2013/2014</td>\n",
       "      <td>89.47</td>\n",
       "    </tr>\n",
       "    <tr>\n",
       "      <th>1075</th>\n",
       "      <td>SL Benfica</td>\n",
       "      <td>2012/2013</td>\n",
       "      <td>88.33</td>\n",
       "    </tr>\n",
       "  </tbody>\n",
       "</table>\n",
       "</div>"
      ],
      "text/plain": [
       "                  team     season  win_pct\n",
       "1042          FC Porto  2010/2011    95.00\n",
       "509   FC Bayern Munich  2012/2013    91.18\n",
       "681           Juventus  2013/2014    90.79\n",
       "1074          FC Porto  2012/2013    90.00\n",
       "527   FC Bayern Munich  2013/2014    89.71\n",
       "1258      FC Barcelona  2009/2010    89.47\n",
       "1298    Real Madrid CF  2011/2012    89.47\n",
       "1318      FC Barcelona  2012/2013    89.47\n",
       "1202            Celtic  2013/2014    89.47\n",
       "1075        SL Benfica  2012/2013    88.33"
      ]
     },
     "execution_count": 251,
     "metadata": {},
     "output_type": "execute_result"
    }
   ],
   "source": [
    "df[['team', 'season', 'win_pct']].sort_values(by=['win_pct'],ascending=False).head(10)"
   ]
  },
  {
   "cell_type": "markdown",
   "metadata": {},
   "source": [
    "The highest single season win percentage belongs to FC Portoat 95%, achieved during the 2010/2011 season. "
   ]
  },
  {
   "cell_type": "markdown",
   "metadata": {},
   "source": [
    "Let's see how the single season win percentage distribution looks compared to the overall win percentages."
   ]
  },
  {
   "cell_type": "code",
   "execution_count": 366,
   "metadata": {},
   "outputs": [
    {
     "data": {
      "image/png": "[encoded data removed]",
      "text/plain": [
       "<Figure size 864x432 with 1 Axes>"
      ]
     },
     "metadata": {
      "needs_background": "light"
     },
     "output_type": "display_data"
    }
   ],
   "source": [
    "plt.figure(figsize=(12,6))\n",
    "df['win_pct'].hist(alpha=0.5, label='single_season')\n",
    "df['overall_win_pct'].hist(alpha=0.5, label='overall')\n",
    "plt.legend()\n",
    "plt.xlabel('Win Percentage')\n",
    "plt.ylabel('Count')\n",
    "plt.title('Distribution of Single Season Win % vs. Overall Win');"
   ]
  },
  {
   "cell_type": "code",
   "execution_count": 380,
   "metadata": {},
   "outputs": [
    {
     "name": "stdout",
     "output_type": "stream",
     "text": [
      "Single Season Win %:\n",
      "count    1478.000000\n",
      "mean       50.017794\n",
      "std        14.215064\n",
      "min        14.710000\n",
      "25%        40.000000\n",
      "50%        47.260000\n",
      "75%        58.902500\n",
      "max        95.000000\n",
      "Name: win_pct, dtype: float64\n",
      "\n",
      "Overall Win %:\n",
      "count    1478.000000\n",
      "mean       50.017544\n",
      "std        11.981071\n",
      "min        21.050000\n",
      "25%        42.100000\n",
      "50%        47.610000\n",
      "75%        56.410000\n",
      "max        84.040000\n",
      "Name: overall_win_pct, dtype: float64\n"
     ]
    }
   ],
   "source": [
    "print(\"Single Season Win %:\")\n",
    "print(df.win_pct.describe())\n",
    "print(\"\")\n",
    "print(\"Overall Win %:\") \n",
    "print(df.overall_win_pct.describe())"
   ]
  },
  {
   "cell_type": "markdown",
   "metadata": {},
   "source": [
    "We see here that the distributions are very similar, with a slightly higher concentration of overall percentages within the 40-52% range and slightly higher and lower outliers in the single season percentages, as would be expected."
   ]
  },
  {
   "cell_type": "markdown",
   "metadata": {},
   "source": [
    "### Which teams had the most improvement by win percentage between 2008/2009 and 2015/2016?"
   ]
  },
  {
   "cell_type": "code",
   "execution_count": 275,
   "metadata": {},
   "outputs": [
    {
     "data": {
      "text/html": [
       "<div>\n",
       "<style scoped>\n",
       "    .dataframe tbody tr th:only-of-type {\n",
       "        vertical-align: middle;\n",
       "    }\n",
       "\n",
       "    .dataframe tbody tr th {\n",
       "        vertical-align: top;\n",
       "    }\n",
       "\n",
       "    .dataframe thead th {\n",
       "        text-align: right;\n",
       "    }\n",
       "</style>\n",
       "<table border=\"1\" class=\"dataframe\">\n",
       "  <thead>\n",
       "    <tr style=\"text-align: right;\">\n",
       "      <th></th>\n",
       "      <th>team</th>\n",
       "      <th>win_pct_1516</th>\n",
       "      <th>win_pct_0809</th>\n",
       "      <th>diff</th>\n",
       "    </tr>\n",
       "  </thead>\n",
       "  <tbody>\n",
       "    <tr>\n",
       "      <th>62</th>\n",
       "      <td>Napoli</td>\n",
       "      <td>75.00</td>\n",
       "      <td>44.74</td>\n",
       "      <td>30.26</td>\n",
       "    </tr>\n",
       "    <tr>\n",
       "      <th>89</th>\n",
       "      <td>Piast Gliwice</td>\n",
       "      <td>68.33</td>\n",
       "      <td>40.00</td>\n",
       "      <td>28.33</td>\n",
       "    </tr>\n",
       "    <tr>\n",
       "      <th>28</th>\n",
       "      <td>Paris Saint-Germain</td>\n",
       "      <td>86.84</td>\n",
       "      <td>59.21</td>\n",
       "      <td>27.63</td>\n",
       "    </tr>\n",
       "    <tr>\n",
       "      <th>50</th>\n",
       "      <td>Borussia Mönchengladbach</td>\n",
       "      <td>55.88</td>\n",
       "      <td>33.82</td>\n",
       "      <td>22.06</td>\n",
       "    </tr>\n",
       "    <tr>\n",
       "      <th>39</th>\n",
       "      <td>FC Bayern Munich</td>\n",
       "      <td>88.24</td>\n",
       "      <td>69.12</td>\n",
       "      <td>19.12</td>\n",
       "    </tr>\n",
       "    <tr>\n",
       "      <th>19</th>\n",
       "      <td>Tottenham Hotspur</td>\n",
       "      <td>67.11</td>\n",
       "      <td>48.68</td>\n",
       "      <td>18.43</td>\n",
       "    </tr>\n",
       "    <tr>\n",
       "      <th>33</th>\n",
       "      <td>AS Monaco</td>\n",
       "      <td>63.16</td>\n",
       "      <td>44.74</td>\n",
       "      <td>18.42</td>\n",
       "    </tr>\n",
       "    <tr>\n",
       "      <th>129</th>\n",
       "      <td>FC Luzern</td>\n",
       "      <td>54.17</td>\n",
       "      <td>36.11</td>\n",
       "      <td>18.06</td>\n",
       "    </tr>\n",
       "    <tr>\n",
       "      <th>80</th>\n",
       "      <td>Heracles Almelo</td>\n",
       "      <td>54.41</td>\n",
       "      <td>36.76</td>\n",
       "      <td>17.65</td>\n",
       "    </tr>\n",
       "    <tr>\n",
       "      <th>70</th>\n",
       "      <td>PSV</td>\n",
       "      <td>85.29</td>\n",
       "      <td>67.65</td>\n",
       "      <td>17.64</td>\n",
       "    </tr>\n",
       "  </tbody>\n",
       "</table>\n",
       "</div>"
      ],
      "text/plain": [
       "                         team  win_pct_1516  win_pct_0809   diff\n",
       "62                     Napoli         75.00         44.74  30.26\n",
       "89              Piast Gliwice         68.33         40.00  28.33\n",
       "28        Paris Saint-Germain         86.84         59.21  27.63\n",
       "50   Borussia Mönchengladbach         55.88         33.82  22.06\n",
       "39           FC Bayern Munich         88.24         69.12  19.12\n",
       "19          Tottenham Hotspur         67.11         48.68  18.43\n",
       "33                  AS Monaco         63.16         44.74  18.42\n",
       "129                 FC Luzern         54.17         36.11  18.06\n",
       "80            Heracles Almelo         54.41         36.76  17.65\n",
       "70                        PSV         85.29         67.65  17.64"
      ]
     },
     "execution_count": 275,
     "metadata": {},
     "output_type": "execute_result"
    }
   ],
   "source": [
    "# Create separate dataframes for 2008/2009 and 2015/2016 seasons\n",
    "df_0809 = df[df['season'] == '2008/2009']\n",
    "df_1516 = df[df['season'] == '2015/2016']\n",
    "\n",
    "# Drop unnecessary columns from the dataframes\n",
    "cols = ['season', 'country', 'W', 'L', 'T', 'overall_win_pct']\n",
    "df_0809.drop(cols, axis=1, inplace=True)\n",
    "df_1516.drop(cols, axis=1, inplace=True)\n",
    "\n",
    "# Combine the dataframes\n",
    "df_cmb = df_0809.merge(df_1516, on='team', suffixes=('_0809', '_1516'))\n",
    "\n",
    "# Create a Win Percentage difference dataframe\n",
    "df_cmb['diff'] = df_cmb['win_pct_1516'] - df_cmb['win_pct_0809']\n",
    "df_cmb_sorted = df_cmb.sort_values('diff', ascending=False)\n",
    "df_cmb_sorted[['team', 'win_pct_1516', 'win_pct_0809','diff']].head(10)"
   ]
  },
  {
   "cell_type": "markdown",
   "metadata": {},
   "source": [
    "Napoli had the highest overall improvement in win percentage, improving from 44.7% to 75%"
   ]
  },
  {
   "cell_type": "code",
   "execution_count": 353,
   "metadata": {},
   "outputs": [
    {
     "data": {
      "image/png": "[encoded data removed]",
      "text/plain": [
       "<Figure size 1008x432 with 1 Axes>"
      ]
     },
     "metadata": {
      "needs_background": "light"
     },
     "output_type": "display_data"
    }
   ],
   "source": [
    "df_cmb_plot = df_cmb_sorted[['team', 'win_pct_1516', 'win_pct_0809','diff']].head(5)\n",
    "plt.figure(figsize=(14,6))\n",
    "plt.bar(df_cmb_plot['team'], df_cmb_plot['win_pct_1516'], alpha=0.5, label='2015/2016')\n",
    "plt.bar(df_cmb_plot['team'], df_cmb_plot['win_pct_0809'], alpha=0.5, label='2008/2009', color ='green')\n",
    "plt.xlabel('Team')\n",
    "plt.ylabel('Win Pct')\n",
    "plt.xticks(fontsize=9)\n",
    "plt.legend()\n",
    "plt.title('Top 5 Most Improved Teams by Win Percentage from 2008/2009 to 2015/2016');"
   ]
  },
  {
   "cell_type": "markdown",
   "metadata": {},
   "source": [
    "From the above chart, we can see that Napoli and Piast Gliwice had the largest improvements, while Paris Saint-Germain and FC Bayern Munich had the highest win percentages amongst the most improved teams."
   ]
  },
  {
   "cell_type": "markdown",
   "metadata": {},
   "source": [
    "### Which teams averaged the most goals scored per year?"
   ]
  },
  {
   "cell_type": "code",
   "execution_count": 359,
   "metadata": {},
   "outputs": [
    {
     "data": {
      "text/plain": [
       "team\n",
       "FC Barcelona        2.79250\n",
       "Real Madrid CF      2.77125\n",
       "FC Bayern Munich    2.39875\n",
       "PSV                 2.39750\n",
       "Ajax                2.38000\n",
       "Celtic              2.28625\n",
       "SL Benfica          2.28125\n",
       "FC Porto            2.18375\n",
       "FC Basel            2.16250\n",
       "Rangers             2.13500\n",
       "Name: gs_avg, dtype: float64"
      ]
     },
     "execution_count": 359,
     "metadata": {},
     "output_type": "execute_result"
    }
   ],
   "source": [
    "group_sort('team', 'gs_avg').head(10)"
   ]
  },
  {
   "cell_type": "code",
   "execution_count": 313,
   "metadata": {},
   "outputs": [],
   "source": [
    "### Which teams averaged the fewest goals scored per year? "
   ]
  },
  {
   "cell_type": "code",
   "execution_count": 360,
   "metadata": {},
   "outputs": [
    {
     "data": {
      "text/plain": [
       "team\n",
       "AC Arles-Avignon        0.550\n",
       "Córdoba CF              0.580\n",
       "Pescara                 0.710\n",
       "FC Dordrecht            0.710\n",
       "Grenoble Foot 38        0.725\n",
       "Middlesbrough           0.740\n",
       "Boavista FC             0.750\n",
       "SpVgg Greuther Fürth    0.760\n",
       "Uniao da Madeira        0.790\n",
       "Reggio Calabria         0.790\n",
       "Name: gs_avg, dtype: float64"
      ]
     },
     "execution_count": 360,
     "metadata": {},
     "output_type": "execute_result"
    }
   ],
   "source": [
    "group_sort('team', 'gs_avg').sort_values().head(10)"
   ]
  },
  {
   "cell_type": "markdown",
   "metadata": {},
   "source": [
    "Let's take a look at how scoring differential relates to win percentage."
   ]
  },
  {
   "cell_type": "code",
   "execution_count": 321,
   "metadata": {},
   "outputs": [
    {
     "data": {
      "image/png": "[encoded data removed]",
      "text/plain": [
       "<Figure size 864x432 with 1 Axes>"
      ]
     },
     "metadata": {
      "needs_background": "light"
     },
     "output_type": "display_data"
    }
   ],
   "source": [
    "score_diff = df['score_diff_avg']\n",
    "win_pct = df['win_pct']\n",
    "\n",
    "plt.figure(figsize=(12,6))\n",
    "plt.scatter(score_diff, win_pct)\n",
    "plt.xlabel('Scoring Differential')\n",
    "plt.ylabel('Win Percentage')\n",
    "plt.title('Scoring Differential vs. Win Percentage')\n",
    "plt.show();"
   ]
  },
  {
   "cell_type": "markdown",
   "metadata": {},
   "source": [
    "There is a clear positive correlation between scoring differential and win percentage. Teams with an average scoring differential of 1 or greater had a win percentage of at least 65%. Converseley, teams with a negative scoring differential of -1 or less had a win percentage of no higher than 35%. "
   ]
  },
  {
   "cell_type": "markdown",
   "metadata": {},
   "source": [
    "### Which leagues averaged the most goals scored between 2008/2009 and 2015/2016?"
   ]
  },
  {
   "cell_type": "code",
   "execution_count": 361,
   "metadata": {},
   "outputs": [
    {
     "data": {
      "text/plain": [
       "league\n",
       "Netherlands Eredivisie      1.540625\n",
       "Switzerland Super League    1.462250\n",
       "Germany 1. Bundesliga       1.450486\n",
       "Belgium Jupiler League      1.396325\n",
       "Spain LIGA BBVA             1.383250\n",
       "England Premier League      1.355125\n",
       "Scotland Premier League     1.317187\n",
       "Italy Serie A               1.307438\n",
       "Portugal Liga ZON Sagres    1.265985\n",
       "France Ligue 1              1.221437\n",
       "Poland Ekstraklasa          1.219680\n",
       "Name: gs_avg, dtype: float64"
      ]
     },
     "execution_count": 361,
     "metadata": {},
     "output_type": "execute_result"
    }
   ],
   "source": [
    "group_sort('league','gs_avg')"
   ]
  },
  {
   "cell_type": "markdown",
   "metadata": {},
   "source": [
    "If you wanted to see a high scoring game between 2008/2009 and 2015/2016, your best bet was to see a Netherlands Eredivisie match!"
   ]
  },
  {
   "cell_type": "markdown",
   "metadata": {},
   "source": [
    "### Which teams had the most improvement in goals scored average between 2008/2009 & 2015/2016?"
   ]
  },
  {
   "cell_type": "code",
   "execution_count": 345,
   "metadata": {},
   "outputs": [
    {
     "name": "stderr",
     "output_type": "stream",
     "text": [
      "/Users/joshiden/opt/anaconda3/lib/python3.8/site-packages/pandas/core/frame.py:4906: SettingWithCopyWarning: \n",
      "A value is trying to be set on a copy of a slice from a DataFrame\n",
      "\n",
      "See the caveats in the documentation: https://pandas.pydata.org/pandas-docs/stable/user_guide/indexing.html#returning-a-view-versus-a-copy\n",
      "  return super().drop(\n"
     ]
    }
   ],
   "source": [
    "gs_avg_0809 = df[df['season'] == '2008/2009']\n",
    "gs_avg_1516 = df[df['season'] == '2015/2016']\n",
    "\n",
    "cols =  ['season', 'country', 'league', 'goals_scored', 'goals_against', 'W', 'L', 'T', 'win_pct', 'overall_win_pct', 'ga_avg', 'score_diff_avg']\n",
    "\n",
    "gs_avg_0809.drop(columns = cols, inplace=True)\n",
    "gs_avg_1516.drop(columns = cols, inplace=True)"
   ]
  },
  {
   "cell_type": "code",
   "execution_count": 351,
   "metadata": {},
   "outputs": [
    {
     "data": {
      "text/plain": [
       "team\n",
       "Paris Saint-Germain         1.39\n",
       "Cracovia                    1.10\n",
       "Piast Gliwice               1.06\n",
       "Napoli                      0.98\n",
       "Borussia Mönchengladbach    0.82\n",
       "Name: diff, dtype: float64"
      ]
     },
     "execution_count": 351,
     "metadata": {},
     "output_type": "execute_result"
    }
   ],
   "source": [
    "gs_avg_diff = gs_avg_0809.merge(gs_avg_1516, on='team', suffixes=('_0809', '_1516'))\n",
    "gs_avg_diff['diff'] = gs_avg_diff['gs_avg_1516'] - gs_avg_diff['gs_avg_0809']\n",
    "gs_avg_diff.groupby('team')['diff'].mean().sort_values(ascending=False).head()"
   ]
  },
  {
   "cell_type": "markdown",
   "metadata": {},
   "source": [
    "The most improved teams in goals scored per game from 2008/2009 to 2015/2016 were Paris Saint-Germain, Cracovia, Piaste Gliwice, Napoli, and Borussia Monchengladbach."
   ]
  },
  {
   "cell_type": "markdown",
   "metadata": {},
   "source": [
    "<a id='conclusions'></a>\n",
    "## Conclusions"
   ]
  },
  {
   "cell_type": "markdown",
   "metadata": {
    "collapsed": true
   },
   "source": [
    "###  1. Which teams had the highest win percentage between the 2008/2009 and 2015/2016 seasons?"
   ]
  },
  {
   "cell_type": "markdown",
   "metadata": {},
   "source": [
    "> 1. FC Barcelona        84.04\n",
    "> 2. FC Porto            82.38\n",
    "> 3. SL Benfica          81.72\n",
    "> 4. Real Madrid CF      80.92\n",
    "> 5. Celtic              79.93"
   ]
  },
  {
   "cell_type": "markdown",
   "metadata": {},
   "source": [
    "### 2. Which teams had the most improvement by win percentage between the 2008/2009 and 2015/2016 seasons?"
   ]
  },
  {
   "cell_type": "markdown",
   "metadata": {},
   "source": [
    "> 1. Napoli +30.26\n",
    "> 2. Piast Gliwice +28.33\n",
    "> 3. Paris Saint-Germain +27.63\n",
    "> 4. Borussia Mönchengladbach +22.06\n",
    "> 5. FC Bayern Munich +19.12"
   ]
  },
  {
   "cell_type": "markdown",
   "metadata": {},
   "source": [
    "### 3. Which teams averaged the most goals scored per year? "
   ]
  },
  {
   "cell_type": "markdown",
   "metadata": {},
   "source": [
    "> 1. FC Barcelona        2.79250\n",
    "> 2. Real Madrid CF      2.77125\n",
    "> 3. FC Bayern Munich    2.39875\n",
    "> 4. PSV                 2.39750\n",
    "> 5. Ajax                2.38000"
   ]
  },
  {
   "cell_type": "markdown",
   "metadata": {},
   "source": [
    "### 4. Which leagues averaged the most goals scored between 2008/2009 and 2015/2016?"
   ]
  },
  {
   "cell_type": "markdown",
   "metadata": {},
   "source": [
    "> 1. Netherlands Eredivisie      1.540625\n",
    "> 2. Switzerland Super League    1.462250\n",
    "> 3. Germany 1. Bundesliga       1.450486\n",
    "> 4. Belgium Jupiler League      1.396325\n",
    "> 5. Spain LIGA BBVA             1.383250"
   ]
  },
  {
   "cell_type": "markdown",
   "metadata": {},
   "source": [
    "### 5. Which teams had the most improvement in goals scored average between 2008/2009 and 2015/2016?"
   ]
  },
  {
   "cell_type": "markdown",
   "metadata": {},
   "source": [
    "> 1. Paris Saint-Germain         1.39\n",
    "> 2. Cracovia                    1.10\n",
    "> 3. Piast Gliwice               1.06\n",
    "> 4. Napoli                      0.98\n",
    "> 5. Borussia Mönchengladbach    0.82"
   ]
  },
  {
   "cell_type": "markdown",
   "metadata": {},
   "source": [
    "### 6. How does goal difference compare with win percentage?"
   ]
  },
  {
   "cell_type": "markdown",
   "metadata": {},
   "source": [
    "There is a clear positive correlation between scoring differential and win percentage. Teams with an average scoring differential of 1 or greater had a win percentage of at least 65%. Converseley, teams with a negative scoring differential of -1 or less had a win percentage of no higher than 35%."
   ]
  },
  {
   "cell_type": "code",
   "execution_count": 352,
   "metadata": {},
   "outputs": [
    {
     "data": {
      "image/png": "[encoded data removed]",
      "text/plain": [
       "<Figure size 864x432 with 1 Axes>"
      ]
     },
     "metadata": {
      "needs_background": "light"
     },
     "output_type": "display_data"
    }
   ],
   "source": [
    "plt.figure(figsize=(12,6))\n",
    "plt.scatter(score_diff, win_pct)\n",
    "plt.xlabel('Scoring Differential')\n",
    "plt.ylabel('Win Percentage')\n",
    "plt.title('Scoring Differential vs. Win Percentage')\n",
    "plt.show();"
   ]
  },
  {
   "cell_type": "markdown",
   "metadata": {},
   "source": [
    "### Analysis Shortcomings & Data Limitations"
   ]
  },
  {
   "cell_type": "markdown",
   "metadata": {},
   "source": [
    "The dataset contains information on 11 leagues and 296 teams over 8 seasons. Additional useful information would include comparisons across other 8 season time periods. The league [UEFA coefficient](https://en.wikipedia.org/wiki/UEFA_coefficient) would be another useful metric for observing team ranking within each league. \n",
    "\n",
    "One of the shortcomings of this analysis is that it does not observe the fluctuation of single season metrics over the course of the 8 year period. Further analysis could display visuals communicating the year-by-year fluctuation across teams and leagues in goals scored averages and win percentage. "
   ]
  },
  {
   "cell_type": "markdown",
   "metadata": {},
   "source": [
    "### References"
   ]
  },
  {
   "cell_type": "markdown",
   "metadata": {},
   "source": [
    "> * Stack Overflow\n",
    "> * Pandas.pydata.org\n",
    "> * Matplotlibe.org"
   ]
  },
  {
   "cell_type": "code",
   "execution_count": null,
   "metadata": {},
   "outputs": [],
   "source": []
  }
 ],
 "metadata": {
  "kernelspec": {
   "display_name": "Python 3 (ipykernel)",
   "language": "python",
   "name": "python3"
  },
  "language_info": {
   "codemirror_mode": {
    "name": "ipython",
    "version": 3
   },
   "file_extension": ".py",
   "mimetype": "text/x-python",
   "name": "python",
   "nbconvert_exporter": "python",
   "pygments_lexer": "ipython3",
   "version": "3.8.12"
  }
 },
 "nbformat": 4,
 "nbformat_minor": 2
}
